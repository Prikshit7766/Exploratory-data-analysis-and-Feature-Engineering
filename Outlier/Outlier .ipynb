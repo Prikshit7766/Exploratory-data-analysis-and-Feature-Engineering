{
 "cells": [
  {
   "cell_type": "markdown",
   "id": "c49089cd",
   "metadata": {},
   "source": [
    "#  Outlier "
   ]
  },
  {
   "cell_type": "markdown",
   "id": "05018b79",
   "metadata": {},
   "source": [
    "An outlier is an individual point of data that is distant from other points in the dataset. It is an anomaly in the dataset that may be caused by a range of errors in capturing, processing or manipulating data"
   ]
  },
  {
   "cell_type": "markdown",
   "id": "7822eae3",
   "metadata": {},
   "source": [
    " outliers are important for some of the use case and some time they are harmful to have it in a dataset "
   ]
  },
  {
   "cell_type": "markdown",
   "id": "7387076d",
   "metadata": {},
   "source": [
    "should we remove outliers ?\n",
    "\n",
    "It depend on the domain"
   ]
  },
  {
   "cell_type": "markdown",
   "id": "73750a35",
   "metadata": {},
   "source": [
    "If you decided to remove outliers. Please remove them before the split(even not only before a split, it's better to do the entire analysis(stat-testing, visualization) again after removing them, you may find interesting things by doing this)"
   ]
  },
  {
   "cell_type": "code",
   "execution_count": 2,
   "id": "4923f667",
   "metadata": {},
   "outputs": [],
   "source": [
    "# if that feature have relation with label  then we should not remove those points like spikes in sales price, fraud detection \n",
    "\n",
    "# but if those points are not affecting the label  so we can remove then .. "
   ]
  },
  {
   "cell_type": "markdown",
   "id": "4b35e802",
   "metadata": {},
   "source": [
    "Which Machine LEarning Models Are Sensitive To Outliers?\n",
    "1. Naivye Bayes Classifier--- Not Sensitive To Outliers\n",
    "2. SVM-------- Not Sensitive To Outliers\n",
    "3. Linear Regression---------- Sensitive To Outliers\n",
    "4. Logistic Regression------- Sensitive To Outliers\n",
    "5. Decision Tree Regressor or Classifier---- Not Sensitive\n",
    "6. Ensemble(RF,XGboost,GB)------- Not Sensitive\n",
    "7. KNN--------------------------- Not Sensitive\n",
    "8. Kmeans------------------------ Sensitive\n",
    "9. Hierarichal------------------- Sensitive\n",
    "10. PCA-------------------------- Sensitive\n",
    "11. Neural Networks-------------- Sensitive"
   ]
  },
  {
   "cell_type": "code",
   "execution_count": 3,
   "id": "70d9535b",
   "metadata": {},
   "outputs": [],
   "source": [
    "import numpy as np\n",
    "import pandas as pd \n",
    "import matplotlib.pyplot as plt\n",
    "import seaborn as sns\n",
    "%matplotlib inline\n",
    "import warnings\n",
    "warnings.filterwarnings('ignore')"
   ]
  },
  {
   "cell_type": "code",
   "execution_count": 4,
   "id": "15a952fc",
   "metadata": {},
   "outputs": [],
   "source": [
    "df=sns.load_dataset('titanic')"
   ]
  },
  {
   "cell_type": "code",
   "execution_count": 5,
   "id": "258ab190",
   "metadata": {},
   "outputs": [
    {
     "data": {
      "text/html": [
       "<div>\n",
       "<style scoped>\n",
       "    .dataframe tbody tr th:only-of-type {\n",
       "        vertical-align: middle;\n",
       "    }\n",
       "\n",
       "    .dataframe tbody tr th {\n",
       "        vertical-align: top;\n",
       "    }\n",
       "\n",
       "    .dataframe thead th {\n",
       "        text-align: right;\n",
       "    }\n",
       "</style>\n",
       "<table border=\"1\" class=\"dataframe\">\n",
       "  <thead>\n",
       "    <tr style=\"text-align: right;\">\n",
       "      <th></th>\n",
       "      <th>survived</th>\n",
       "      <th>pclass</th>\n",
       "      <th>sex</th>\n",
       "      <th>age</th>\n",
       "      <th>sibsp</th>\n",
       "      <th>parch</th>\n",
       "      <th>fare</th>\n",
       "      <th>embarked</th>\n",
       "      <th>class</th>\n",
       "      <th>who</th>\n",
       "      <th>adult_male</th>\n",
       "      <th>deck</th>\n",
       "      <th>embark_town</th>\n",
       "      <th>alive</th>\n",
       "      <th>alone</th>\n",
       "    </tr>\n",
       "  </thead>\n",
       "  <tbody>\n",
       "    <tr>\n",
       "      <th>0</th>\n",
       "      <td>0</td>\n",
       "      <td>3</td>\n",
       "      <td>male</td>\n",
       "      <td>22.0</td>\n",
       "      <td>1</td>\n",
       "      <td>0</td>\n",
       "      <td>7.2500</td>\n",
       "      <td>S</td>\n",
       "      <td>Third</td>\n",
       "      <td>man</td>\n",
       "      <td>True</td>\n",
       "      <td>NaN</td>\n",
       "      <td>Southampton</td>\n",
       "      <td>no</td>\n",
       "      <td>False</td>\n",
       "    </tr>\n",
       "    <tr>\n",
       "      <th>1</th>\n",
       "      <td>1</td>\n",
       "      <td>1</td>\n",
       "      <td>female</td>\n",
       "      <td>38.0</td>\n",
       "      <td>1</td>\n",
       "      <td>0</td>\n",
       "      <td>71.2833</td>\n",
       "      <td>C</td>\n",
       "      <td>First</td>\n",
       "      <td>woman</td>\n",
       "      <td>False</td>\n",
       "      <td>C</td>\n",
       "      <td>Cherbourg</td>\n",
       "      <td>yes</td>\n",
       "      <td>False</td>\n",
       "    </tr>\n",
       "    <tr>\n",
       "      <th>2</th>\n",
       "      <td>1</td>\n",
       "      <td>3</td>\n",
       "      <td>female</td>\n",
       "      <td>26.0</td>\n",
       "      <td>0</td>\n",
       "      <td>0</td>\n",
       "      <td>7.9250</td>\n",
       "      <td>S</td>\n",
       "      <td>Third</td>\n",
       "      <td>woman</td>\n",
       "      <td>False</td>\n",
       "      <td>NaN</td>\n",
       "      <td>Southampton</td>\n",
       "      <td>yes</td>\n",
       "      <td>True</td>\n",
       "    </tr>\n",
       "    <tr>\n",
       "      <th>3</th>\n",
       "      <td>1</td>\n",
       "      <td>1</td>\n",
       "      <td>female</td>\n",
       "      <td>35.0</td>\n",
       "      <td>1</td>\n",
       "      <td>0</td>\n",
       "      <td>53.1000</td>\n",
       "      <td>S</td>\n",
       "      <td>First</td>\n",
       "      <td>woman</td>\n",
       "      <td>False</td>\n",
       "      <td>C</td>\n",
       "      <td>Southampton</td>\n",
       "      <td>yes</td>\n",
       "      <td>False</td>\n",
       "    </tr>\n",
       "    <tr>\n",
       "      <th>4</th>\n",
       "      <td>0</td>\n",
       "      <td>3</td>\n",
       "      <td>male</td>\n",
       "      <td>35.0</td>\n",
       "      <td>0</td>\n",
       "      <td>0</td>\n",
       "      <td>8.0500</td>\n",
       "      <td>S</td>\n",
       "      <td>Third</td>\n",
       "      <td>man</td>\n",
       "      <td>True</td>\n",
       "      <td>NaN</td>\n",
       "      <td>Southampton</td>\n",
       "      <td>no</td>\n",
       "      <td>True</td>\n",
       "    </tr>\n",
       "  </tbody>\n",
       "</table>\n",
       "</div>"
      ],
      "text/plain": [
       "   survived  pclass     sex   age  sibsp  parch     fare embarked  class  \\\n",
       "0         0       3    male  22.0      1      0   7.2500        S  Third   \n",
       "1         1       1  female  38.0      1      0  71.2833        C  First   \n",
       "2         1       3  female  26.0      0      0   7.9250        S  Third   \n",
       "3         1       1  female  35.0      1      0  53.1000        S  First   \n",
       "4         0       3    male  35.0      0      0   8.0500        S  Third   \n",
       "\n",
       "     who  adult_male deck  embark_town alive  alone  \n",
       "0    man        True  NaN  Southampton    no  False  \n",
       "1  woman       False    C    Cherbourg   yes  False  \n",
       "2  woman       False  NaN  Southampton   yes   True  \n",
       "3  woman       False    C  Southampton   yes  False  \n",
       "4    man        True  NaN  Southampton    no   True  "
      ]
     },
     "execution_count": 5,
     "metadata": {},
     "output_type": "execute_result"
    }
   ],
   "source": [
    "df.head()"
   ]
  },
  {
   "cell_type": "code",
   "execution_count": 7,
   "id": "51326c16",
   "metadata": {},
   "outputs": [
    {
     "data": {
      "text/plain": [
       "177"
      ]
     },
     "execution_count": 7,
     "metadata": {},
     "output_type": "execute_result"
    }
   ],
   "source": [
    "df[\"age\"].isna().sum()"
   ]
  },
  {
   "cell_type": "code",
   "execution_count": 8,
   "id": "802629cd",
   "metadata": {},
   "outputs": [
    {
     "data": {
      "text/plain": [
       "<AxesSubplot:xlabel='age', ylabel='Density'>"
      ]
     },
     "execution_count": 8,
     "metadata": {},
     "output_type": "execute_result"
    },
    {
     "data": {
      "image/png": "[encoded data removed]",
      "text/plain": [
       "<Figure size 432x288 with 1 Axes>"
      ]
     },
     "metadata": {
      "needs_background": "light"
     },
     "output_type": "display_data"
    }
   ],
   "source": [
    "sns.distplot(df.age.dropna())"
   ]
  },
  {
   "cell_type": "markdown",
   "id": "ce66c489",
   "metadata": {},
   "source": [
    "It looks like a normal distribution"
   ]
  },
  {
   "cell_type": "code",
   "execution_count": 9,
   "id": "2d898f52",
   "metadata": {},
   "outputs": [],
   "source": [
    "# just for checking\n",
    "# as there are 177 null values we filling it with higher number \n",
    "# so that some outlier will be there to deal with"
   ]
  },
  {
   "cell_type": "code",
   "execution_count": 10,
   "id": "ab5967f7",
   "metadata": {},
   "outputs": [
    {
     "data": {
      "text/plain": [
       "<AxesSubplot:xlabel='age', ylabel='Density'>"
      ]
     },
     "execution_count": 10,
     "metadata": {},
     "output_type": "execute_result"
    },
    {
     "data": {
      "image/png": "[encoded data removed]",
      "text/plain": [
       "<Figure size 432x288 with 1 Axes>"
      ]
     },
     "metadata": {
      "needs_background": "light"
     },
     "output_type": "display_data"
    }
   ],
   "source": [
    "sns.distplot(df.age.fillna(100))"
   ]
  },
  {
   "cell_type": "code",
   "execution_count": 11,
   "id": "4b5431e3",
   "metadata": {},
   "outputs": [],
   "source": [
    "# now it showing outliers ( peak near  100)"
   ]
  },
  {
   "cell_type": "code",
   "execution_count": 14,
   "id": "2ee528cc",
   "metadata": {},
   "outputs": [
    {
     "data": {
      "text/plain": [
       "Text(0, 0.5, 'no of passenger')"
      ]
     },
     "execution_count": 14,
     "metadata": {},
     "output_type": "execute_result"
    },
    {
     "data": {
      "image/png": "[encoded data removed]",
      "text/plain": [
       "<Figure size 432x288 with 1 Axes>"
      ]
     },
     "metadata": {
      "needs_background": "light"
     },
     "output_type": "display_data"
    }
   ],
   "source": [
    "figure=df.age.hist(bins=50)\n",
    "\n",
    "figure.set_title(\"age\")\n",
    "figure.set_xlabel('age')\n",
    "figure.set_ylabel('no of passenger')\n",
    "# it is following gaussian distribution"
   ]
  },
  {
   "cell_type": "code",
   "execution_count": 15,
   "id": "13e84b8a",
   "metadata": {},
   "outputs": [],
   "source": [
    "# when ever your data is distributed  in a normal distribution or gaussian . there is different approch to find out the outliers"
   ]
  },
  {
   "cell_type": "markdown",
   "id": "cd8651cf",
   "metadata": {},
   "source": [
    "# To find outliers"
   ]
  },
  {
   "cell_type": "markdown",
   "id": "4c1aa118",
   "metadata": {},
   "source": [
    "#### for normal  distribution"
   ]
  },
  {
   "cell_type": "code",
   "execution_count": 18,
   "id": "ffdb36b0",
   "metadata": {},
   "outputs": [
    {
     "data": {
      "image/png": "[encoded data removed]",
      "text/plain": [
       "<Figure size 432x288 with 1 Axes>"
      ]
     },
     "metadata": {
      "needs_background": "light"
     },
     "output_type": "display_data"
    }
   ],
   "source": [
    "figure=df.boxplot(\"age\")\n",
    "# dotted pooints are outliers"
   ]
  },
  {
   "cell_type": "code",
   "execution_count": 19,
   "id": "e0dffbbc",
   "metadata": {},
   "outputs": [
    {
     "data": {
      "text/plain": [
       "count    714.000000\n",
       "mean      29.699118\n",
       "std       14.526497\n",
       "min        0.420000\n",
       "25%       20.125000\n",
       "50%       28.000000\n",
       "75%       38.000000\n",
       "max       80.000000\n",
       "Name: age, dtype: float64"
      ]
     },
     "execution_count": 19,
     "metadata": {},
     "output_type": "execute_result"
    }
   ],
   "source": [
    "df[\"age\"].describe()\n",
    "# to see 5 numbers summary"
   ]
  },
  {
   "cell_type": "code",
   "execution_count": 20,
   "id": "820f2b40",
   "metadata": {},
   "outputs": [],
   "source": [
    "# assuming age follows gaussian distribution \n",
    "# we will calculate the boundaries which differentiates the outliers"
   ]
  },
  {
   "attachments": {
    "image.png": {
     "image/png": "[encoded data removed]"
    }
   },
   "cell_type": "markdown",
   "id": "f20a44f9",
   "metadata": {},
   "source": [
    "![image.png](attachment:image.png)"
   ]
  },
  {
   "cell_type": "code",
   "execution_count": 22,
   "id": "bc3ef04b",
   "metadata": {},
   "outputs": [],
   "source": [
    "age_mean=df.age.mean()"
   ]
  },
  {
   "cell_type": "code",
   "execution_count": 28,
   "id": "1fa17c1f",
   "metadata": {},
   "outputs": [],
   "source": [
    "upper_boundary=age_mean +3*df.age.std()\n",
    "lower_boundary=age_mean -3*df.age.std()"
   ]
  },
  {
   "cell_type": "code",
   "execution_count": 30,
   "id": "a3fe3259",
   "metadata": {},
   "outputs": [
    {
     "data": {
      "text/plain": [
       "(-13.88037434994331, 73.27860964406095, 29.69911764705882)"
      ]
     },
     "execution_count": 30,
     "metadata": {},
     "output_type": "execute_result"
    }
   ],
   "source": [
    "lower_boundary,upper_boundary,age_mean"
   ]
  },
  {
   "cell_type": "code",
   "execution_count": null,
   "id": "ca5fbf33",
   "metadata": {},
   "outputs": [],
   "source": [
    "# note\n",
    "# in age negative value will not be there \n"
   ]
  },
  {
   "cell_type": "markdown",
   "id": "2146f7a0",
   "metadata": {},
   "source": [
    "####  for gaussian/ normal distribution we have to do till here ..\n",
    "we can consider lower_boundary,upper_boundary as our range"
   ]
  },
  {
   "cell_type": "markdown",
   "id": "9831a008",
   "metadata": {},
   "source": [
    "#### finding IQR  just  to show "
   ]
  },
  {
   "cell_type": "code",
   "execution_count": 54,
   "id": "dd1f6985",
   "metadata": {},
   "outputs": [],
   "source": [
    "q1=df[\"age\"].quantile(0.25)\n",
    "q3=df[\"age\"].quantile(0.75)"
   ]
  },
  {
   "attachments": {
    "image.png": {
     "image/png": "[encoded data removed]"
    }
   },
   "cell_type": "markdown",
   "id": "359142cb",
   "metadata": {},
   "source": [
    "![image.png](attachment:image.png)"
   ]
  },
  {
   "cell_type": "code",
   "execution_count": 55,
   "id": "7f45e204",
   "metadata": {},
   "outputs": [],
   "source": [
    "IQR=q3-q1"
   ]
  },
  {
   "cell_type": "code",
   "execution_count": 56,
   "id": "d08a4629",
   "metadata": {},
   "outputs": [
    {
     "data": {
      "text/plain": [
       "17.875"
      ]
     },
     "execution_count": 56,
     "metadata": {},
     "output_type": "execute_result"
    }
   ],
   "source": [
    "IQR"
   ]
  },
  {
   "cell_type": "code",
   "execution_count": 36,
   "id": "fc0168c6",
   "metadata": {},
   "outputs": [],
   "source": [
    "lower_fence=q1-1.5*IQR\n",
    "upper_fence=q3+1.5*IQR"
   ]
  },
  {
   "cell_type": "code",
   "execution_count": 37,
   "id": "ba6728fe",
   "metadata": {},
   "outputs": [
    {
     "data": {
      "text/plain": [
       "(-6.6875, 64.8125)"
      ]
     },
     "execution_count": 37,
     "metadata": {},
     "output_type": "execute_result"
    }
   ],
   "source": [
    "lower_fence,upper_fence\n"
   ]
  },
  {
   "cell_type": "code",
   "execution_count": 38,
   "id": "418172ea",
   "metadata": {},
   "outputs": [],
   "source": [
    "# here lower fence is negative --> age cannot be negative so we are not gonna consider negative value"
   ]
  },
  {
   "cell_type": "code",
   "execution_count": 41,
   "id": "187b984b",
   "metadata": {},
   "outputs": [],
   "source": [
    "# to calculate the extreme  boundaries  then for  extreme outliers\n",
    "lower_extreme=q1-3*IQR\n",
    "upper_extreme=q3+3*IQR"
   ]
  },
  {
   "cell_type": "code",
   "execution_count": 42,
   "id": "74432616",
   "metadata": {},
   "outputs": [
    {
     "data": {
      "text/plain": [
       "(-33.5, 91.625)"
      ]
     },
     "execution_count": 42,
     "metadata": {},
     "output_type": "execute_result"
    }
   ],
   "source": [
    "# extreme outliers\n",
    "lower_extreme,upper_extreme\n"
   ]
  },
  {
   "cell_type": "markdown",
   "id": "78042390",
   "metadata": {},
   "source": [
    "after 91.625 which is no where close to max       80.000000"
   ]
  },
  {
   "cell_type": "code",
   "execution_count": 43,
   "id": "5c4d07df",
   "metadata": {},
   "outputs": [],
   "source": [
    "# right now  we are considering lower_boundary,upper_boundary"
   ]
  },
  {
   "cell_type": "markdown",
   "id": "90be3a52",
   "metadata": {},
   "source": [
    "#### Feature is Skewed"
   ]
  },
  {
   "cell_type": "code",
   "execution_count": 50,
   "id": "5c12189a",
   "metadata": {},
   "outputs": [
    {
     "data": {
      "text/plain": [
       "Text(0, 0.5, 'no of passenger')"
      ]
     },
     "execution_count": 50,
     "metadata": {},
     "output_type": "execute_result"
    },
    {
     "data": {
      "image/png": "[encoded data removed]",
      "text/plain": [
       "<Figure size 432x288 with 1 Axes>"
      ]
     },
     "metadata": {
      "needs_background": "light"
     },
     "output_type": "display_data"
    }
   ],
   "source": [
    "figure=df.fare.hist(bins=50)\n",
    "\n",
    "figure.set_title(\"fare\")\n",
    "figure.set_xlabel('fare')\n",
    "figure.set_ylabel('no of passenger')\n",
    "# right Skewed"
   ]
  },
  {
   "cell_type": "code",
   "execution_count": 47,
   "id": "50e8f6e8",
   "metadata": {},
   "outputs": [
    {
     "data": {
      "image/png": "[encoded data removed]",
      "text/plain": [
       "<Figure size 432x288 with 1 Axes>"
      ]
     },
     "metadata": {
      "needs_background": "light"
     },
     "output_type": "display_data"
    }
   ],
   "source": [
    "figure=df.boxplot(\"fare\")\n",
    "# dotted pooints are outliers"
   ]
  },
  {
   "cell_type": "code",
   "execution_count": 51,
   "id": "648f30db",
   "metadata": {},
   "outputs": [
    {
     "data": {
      "text/plain": [
       "count    891.000000\n",
       "mean      32.204208\n",
       "std       49.693429\n",
       "min        0.000000\n",
       "25%        7.910400\n",
       "50%       14.454200\n",
       "75%       31.000000\n",
       "max      512.329200\n",
       "Name: fare, dtype: float64"
      ]
     },
     "execution_count": 51,
     "metadata": {},
     "output_type": "execute_result"
    }
   ],
   "source": [
    "df.fare.describe()"
   ]
  },
  {
   "cell_type": "code",
   "execution_count": 52,
   "id": "ac4368f9",
   "metadata": {},
   "outputs": [],
   "source": [
    "#difference between max value and min value is too huge"
   ]
  },
  {
   "cell_type": "code",
   "execution_count": 53,
   "id": "8f702464",
   "metadata": {},
   "outputs": [],
   "source": [
    "# for such kind of distribution hout to calculate IQR,  lower_fence and upper_fence"
   ]
  },
  {
   "cell_type": "markdown",
   "id": "3006c62d",
   "metadata": {},
   "source": [
    "#### note \n",
    "1. in the case of gaussian or normal distribution we can say that iqr range will work\n",
    "2. when we are dealing with skewed data we are not sure that this iqr range will work or not , you have to verify "
   ]
  },
  {
   "cell_type": "code",
   "execution_count": 70,
   "id": "f5e6791a",
   "metadata": {},
   "outputs": [
    {
     "data": {
      "text/plain": [
       "0       7.2500\n",
       "1      71.2833\n",
       "2       7.9250\n",
       "3      53.1000\n",
       "4       8.0500\n",
       "        ...   \n",
       "886    13.0000\n",
       "887    30.0000\n",
       "888    23.4500\n",
       "889    30.0000\n",
       "890     7.7500\n",
       "Name: fare, Length: 891, dtype: float64"
      ]
     },
     "execution_count": 70,
     "metadata": {},
     "output_type": "execute_result"
    }
   ],
   "source": [
    "df[\"fare\"]"
   ]
  },
  {
   "cell_type": "code",
   "execution_count": 64,
   "id": "92f83d9d",
   "metadata": {},
   "outputs": [],
   "source": [
    "q1=df[\"fare\"].quantile(0.25)\n",
    "q3=df[\"fare\"].quantile(0.75)"
   ]
  },
  {
   "cell_type": "code",
   "execution_count": 65,
   "id": "8de4e919",
   "metadata": {},
   "outputs": [],
   "source": [
    "IOR=q3-q1"
   ]
  },
  {
   "cell_type": "code",
   "execution_count": 66,
   "id": "28ae5964",
   "metadata": {},
   "outputs": [],
   "source": [
    "lower_fence=q1-1.5*IQR\n",
    "upper_fence=q3+1.5*IQR"
   ]
  },
  {
   "cell_type": "code",
   "execution_count": 67,
   "id": "24d3b101",
   "metadata": {},
   "outputs": [
    {
     "data": {
      "text/plain": [
       "(-18.9021, 57.8125)"
      ]
     },
     "execution_count": 67,
     "metadata": {},
     "output_type": "execute_result"
    }
   ],
   "source": [
    "lower_fence,upper_fence"
   ]
  },
  {
   "cell_type": "code",
   "execution_count": 68,
   "id": "0dd80377",
   "metadata": {},
   "outputs": [],
   "source": [
    "lower_extreme=q1-3*IQR\n",
    "upper_extreme=q3+3*IQR"
   ]
  },
  {
   "cell_type": "code",
   "execution_count": 72,
   "id": "76130ac6",
   "metadata": {},
   "outputs": [
    {
     "data": {
      "text/plain": [
       "(-45.7146, 84.625)"
      ]
     },
     "execution_count": 72,
     "metadata": {},
     "output_type": "execute_result"
    }
   ],
   "source": [
    "# extreme outliers\n",
    "lower_extreme,upper_extreme"
   ]
  },
  {
   "cell_type": "code",
   "execution_count": 73,
   "id": "da12dc0f",
   "metadata": {},
   "outputs": [],
   "source": [
    "# we are considering  lower_extreme,upper_extreme\n",
    "# note fare cannot be negative so lower_extreme cannot be negative"
   ]
  },
  {
   "cell_type": "markdown",
   "id": "d720ab44",
   "metadata": {},
   "source": [
    "#### hanling the outliers based on range that we have found"
   ]
  },
  {
   "cell_type": "code",
   "execution_count": 77,
   "id": "6805974c",
   "metadata": {},
   "outputs": [],
   "source": [
    "data=df.copy()"
   ]
  },
  {
   "cell_type": "code",
   "execution_count": null,
   "id": "88a095a2",
   "metadata": {},
   "outputs": [],
   "source": [
    "# first we will deal with  age"
   ]
  },
  {
   "cell_type": "code",
   "execution_count": 75,
   "id": "a9792799",
   "metadata": {},
   "outputs": [
    {
     "data": {
      "text/plain": [
       "(-13.88037434994331, 73.27860964406095, 29.69911764705882)"
      ]
     },
     "execution_count": 75,
     "metadata": {},
     "output_type": "execute_result"
    }
   ],
   "source": [
    "lower_boundary,upper_boundary,age_mean\n",
    "# w.r.t age that we have found earlier"
   ]
  },
  {
   "cell_type": "code",
   "execution_count": 78,
   "id": "3128bd69",
   "metadata": {},
   "outputs": [],
   "source": [
    "data.loc[data[\"age\"]>=upper_boundary,\"age\"]=upper_boundary\n",
    "# all the values which are greater than upper_boundary, , we are replacing it with upper_boundary"
   ]
  },
  {
   "cell_type": "code",
   "execution_count": null,
   "id": "2dc58de1",
   "metadata": {},
   "outputs": [],
   "source": [
    "# generatlly we do this\n",
    "'''df['feature'] = np.where(\n",
    "    df['feature']>upper_limit,\n",
    "    upper_limit,\n",
    "    np.where(\n",
    "        df['feature']<lower_limit,\n",
    "        lower_limit,\n",
    "        df['feature']\n",
    "    )\n",
    ")'''"
   ]
  },
  {
   "cell_type": "code",
   "execution_count": 79,
   "id": "bbdeeca8",
   "metadata": {},
   "outputs": [
    {
     "data": {
      "text/html": [
       "<div>\n",
       "<style scoped>\n",
       "    .dataframe tbody tr th:only-of-type {\n",
       "        vertical-align: middle;\n",
       "    }\n",
       "\n",
       "    .dataframe tbody tr th {\n",
       "        vertical-align: top;\n",
       "    }\n",
       "\n",
       "    .dataframe thead th {\n",
       "        text-align: right;\n",
       "    }\n",
       "</style>\n",
       "<table border=\"1\" class=\"dataframe\">\n",
       "  <thead>\n",
       "    <tr style=\"text-align: right;\">\n",
       "      <th></th>\n",
       "      <th>survived</th>\n",
       "      <th>pclass</th>\n",
       "      <th>sex</th>\n",
       "      <th>age</th>\n",
       "      <th>sibsp</th>\n",
       "      <th>parch</th>\n",
       "      <th>fare</th>\n",
       "      <th>embarked</th>\n",
       "      <th>class</th>\n",
       "      <th>who</th>\n",
       "      <th>adult_male</th>\n",
       "      <th>deck</th>\n",
       "      <th>embark_town</th>\n",
       "      <th>alive</th>\n",
       "      <th>alone</th>\n",
       "    </tr>\n",
       "  </thead>\n",
       "  <tbody>\n",
       "    <tr>\n",
       "      <th>0</th>\n",
       "      <td>0</td>\n",
       "      <td>3</td>\n",
       "      <td>male</td>\n",
       "      <td>22.0</td>\n",
       "      <td>1</td>\n",
       "      <td>0</td>\n",
       "      <td>7.2500</td>\n",
       "      <td>S</td>\n",
       "      <td>Third</td>\n",
       "      <td>man</td>\n",
       "      <td>True</td>\n",
       "      <td>NaN</td>\n",
       "      <td>Southampton</td>\n",
       "      <td>no</td>\n",
       "      <td>False</td>\n",
       "    </tr>\n",
       "    <tr>\n",
       "      <th>1</th>\n",
       "      <td>1</td>\n",
       "      <td>1</td>\n",
       "      <td>female</td>\n",
       "      <td>38.0</td>\n",
       "      <td>1</td>\n",
       "      <td>0</td>\n",
       "      <td>71.2833</td>\n",
       "      <td>C</td>\n",
       "      <td>First</td>\n",
       "      <td>woman</td>\n",
       "      <td>False</td>\n",
       "      <td>C</td>\n",
       "      <td>Cherbourg</td>\n",
       "      <td>yes</td>\n",
       "      <td>False</td>\n",
       "    </tr>\n",
       "    <tr>\n",
       "      <th>2</th>\n",
       "      <td>1</td>\n",
       "      <td>3</td>\n",
       "      <td>female</td>\n",
       "      <td>26.0</td>\n",
       "      <td>0</td>\n",
       "      <td>0</td>\n",
       "      <td>7.9250</td>\n",
       "      <td>S</td>\n",
       "      <td>Third</td>\n",
       "      <td>woman</td>\n",
       "      <td>False</td>\n",
       "      <td>NaN</td>\n",
       "      <td>Southampton</td>\n",
       "      <td>yes</td>\n",
       "      <td>True</td>\n",
       "    </tr>\n",
       "    <tr>\n",
       "      <th>3</th>\n",
       "      <td>1</td>\n",
       "      <td>1</td>\n",
       "      <td>female</td>\n",
       "      <td>35.0</td>\n",
       "      <td>1</td>\n",
       "      <td>0</td>\n",
       "      <td>53.1000</td>\n",
       "      <td>S</td>\n",
       "      <td>First</td>\n",
       "      <td>woman</td>\n",
       "      <td>False</td>\n",
       "      <td>C</td>\n",
       "      <td>Southampton</td>\n",
       "      <td>yes</td>\n",
       "      <td>False</td>\n",
       "    </tr>\n",
       "    <tr>\n",
       "      <th>4</th>\n",
       "      <td>0</td>\n",
       "      <td>3</td>\n",
       "      <td>male</td>\n",
       "      <td>35.0</td>\n",
       "      <td>0</td>\n",
       "      <td>0</td>\n",
       "      <td>8.0500</td>\n",
       "      <td>S</td>\n",
       "      <td>Third</td>\n",
       "      <td>man</td>\n",
       "      <td>True</td>\n",
       "      <td>NaN</td>\n",
       "      <td>Southampton</td>\n",
       "      <td>no</td>\n",
       "      <td>True</td>\n",
       "    </tr>\n",
       "  </tbody>\n",
       "</table>\n",
       "</div>"
      ],
      "text/plain": [
       "   survived  pclass     sex   age  sibsp  parch     fare embarked  class  \\\n",
       "0         0       3    male  22.0      1      0   7.2500        S  Third   \n",
       "1         1       1  female  38.0      1      0  71.2833        C  First   \n",
       "2         1       3  female  26.0      0      0   7.9250        S  Third   \n",
       "3         1       1  female  35.0      1      0  53.1000        S  First   \n",
       "4         0       3    male  35.0      0      0   8.0500        S  Third   \n",
       "\n",
       "     who  adult_male deck  embark_town alive  alone  \n",
       "0    man        True  NaN  Southampton    no  False  \n",
       "1  woman       False    C    Cherbourg   yes  False  \n",
       "2  woman       False  NaN  Southampton   yes   True  \n",
       "3  woman       False    C  Southampton   yes  False  \n",
       "4    man        True  NaN  Southampton    no   True  "
      ]
     },
     "execution_count": 79,
     "metadata": {},
     "output_type": "execute_result"
    }
   ],
   "source": [
    "data.head()"
   ]
  },
  {
   "cell_type": "markdown",
   "id": "fe18c9ed",
   "metadata": {},
   "source": [
    "### before"
   ]
  },
  {
   "cell_type": "code",
   "execution_count": 82,
   "id": "38125b02",
   "metadata": {},
   "outputs": [
    {
     "data": {
      "text/plain": [
       "Text(0, 0.5, 'no of passenger')"
      ]
     },
     "execution_count": 82,
     "metadata": {},
     "output_type": "execute_result"
    },
    {
     "data": {
      "image/png": "[encoded data removed]",
      "text/plain": [
       "<Figure size 432x288 with 1 Axes>"
      ]
     },
     "metadata": {
      "needs_background": "light"
     },
     "output_type": "display_data"
    }
   ],
   "source": [
    "figure=df.age.hist(bins=50)\n",
    "\n",
    "figure.set_title(\"age\")\n",
    "figure.set_xlabel('age')\n",
    "figure.set_ylabel('no of passenger')\n"
   ]
  },
  {
   "cell_type": "markdown",
   "id": "73f6e6ce",
   "metadata": {},
   "source": [
    "### after"
   ]
  },
  {
   "cell_type": "code",
   "execution_count": 83,
   "id": "09793d63",
   "metadata": {},
   "outputs": [
    {
     "data": {
      "text/plain": [
       "Text(0, 0.5, 'no of passenger')"
      ]
     },
     "execution_count": 83,
     "metadata": {},
     "output_type": "execute_result"
    },
    {
     "data": {
      "image/png": "[encoded data removed]",
      "text/plain": [
       "<Figure size 432x288 with 1 Axes>"
      ]
     },
     "metadata": {
      "needs_background": "light"
     },
     "output_type": "display_data"
    }
   ],
   "source": [
    "figure=data.age.hist(bins=50)\n",
    "\n",
    "figure.set_title(\"age\")\n",
    "figure.set_xlabel('age')\n",
    "figure.set_ylabel('no of passenger')"
   ]
  },
  {
   "cell_type": "code",
   "execution_count": 84,
   "id": "45b0b37c",
   "metadata": {},
   "outputs": [],
   "source": [
    "# noe we will deal with  fare"
   ]
  },
  {
   "cell_type": "code",
   "execution_count": 85,
   "id": "352dbca7",
   "metadata": {},
   "outputs": [
    {
     "data": {
      "text/plain": [
       "(-45.7146, 84.625)"
      ]
     },
     "execution_count": 85,
     "metadata": {},
     "output_type": "execute_result"
    }
   ],
   "source": [
    "# extreme values which we found earlier for fare\n",
    "lower_extreme,upper_extreme"
   ]
  },
  {
   "cell_type": "code",
   "execution_count": 86,
   "id": "62a276db",
   "metadata": {},
   "outputs": [],
   "source": [
    "data.loc[data[\"fare\"]>=upper_extreme,\"fare\"]=upper_extreme"
   ]
  },
  {
   "cell_type": "markdown",
   "id": "85d0e0d4",
   "metadata": {},
   "source": [
    "### before"
   ]
  },
  {
   "cell_type": "code",
   "execution_count": 87,
   "id": "e5191b75",
   "metadata": {},
   "outputs": [
    {
     "data": {
      "text/plain": [
       "Text(0, 0.5, 'no of passenger')"
      ]
     },
     "execution_count": 87,
     "metadata": {},
     "output_type": "execute_result"
    },
    {
     "data": {
      "image/png": "[encoded data removed]",
      "text/plain": [
       "<Figure size 432x288 with 1 Axes>"
      ]
     },
     "metadata": {
      "needs_background": "light"
     },
     "output_type": "display_data"
    }
   ],
   "source": [
    "figure=df.fare.hist(bins=50)\n",
    "\n",
    "figure.set_title(\"fare\")\n",
    "figure.set_xlabel('fare')\n",
    "figure.set_ylabel('no of passenger')"
   ]
  },
  {
   "cell_type": "markdown",
   "id": "bceca848",
   "metadata": {},
   "source": [
    "### after"
   ]
  },
  {
   "cell_type": "code",
   "execution_count": 88,
   "id": "51e19463",
   "metadata": {},
   "outputs": [
    {
     "data": {
      "text/plain": [
       "Text(0, 0.5, 'no of passenger')"
      ]
     },
     "execution_count": 88,
     "metadata": {},
     "output_type": "execute_result"
    },
    {
     "data": {
      "image/png": "[encoded data removed]",
      "text/plain": [
       "<Figure size 432x288 with 1 Axes>"
      ]
     },
     "metadata": {
      "needs_background": "light"
     },
     "output_type": "display_data"
    }
   ],
   "source": [
    "figure=data.fare.hist(bins=50)\n",
    "\n",
    "figure.set_title(\"fare\")\n",
    "figure.set_xlabel('fare')\n",
    "figure.set_ylabel('no of passenger')"
   ]
  },
  {
   "cell_type": "code",
   "execution_count": null,
   "id": "34e0a3ef",
   "metadata": {},
   "outputs": [],
   "source": [
    "# now the looks more normally distribured"
   ]
  },
  {
   "cell_type": "code",
   "execution_count": 89,
   "id": "4fe8dbc1",
   "metadata": {},
   "outputs": [],
   "source": [
    "# note \n",
    "# we can also remove outliers if we are having large dataset \n",
    "# but if record is less then don't remoev it"
   ]
  },
  {
   "cell_type": "markdown",
   "id": "561b604e",
   "metadata": {},
   "source": [
    "### Percentile Method "
   ]
  },
  {
   "cell_type": "code",
   "execution_count": 96,
   "id": "45acdee9",
   "metadata": {},
   "outputs": [],
   "source": [
    "# here we take custom threshold ( generally 1% - 99%)"
   ]
  },
  {
   "cell_type": "markdown",
   "id": "8744b312",
   "metadata": {},
   "source": [
    "-> are selecting the threshold we\n",
    "\n",
    " remove them or capping ( also known as  Winsorization Technique )"
   ]
  },
  {
   "cell_type": "code",
   "execution_count": 101,
   "id": "d050d981",
   "metadata": {},
   "outputs": [],
   "source": [
    "df=pd.read_csv(r\"weight-height.csv\")"
   ]
  },
  {
   "cell_type": "code",
   "execution_count": 102,
   "id": "f2b0792c",
   "metadata": {},
   "outputs": [
    {
     "data": {
      "text/plain": [
       "(10000, 4)"
      ]
     },
     "execution_count": 102,
     "metadata": {},
     "output_type": "execute_result"
    }
   ],
   "source": [
    "df.shape"
   ]
  },
  {
   "cell_type": "code",
   "execution_count": 103,
   "id": "6f1b9613",
   "metadata": {},
   "outputs": [
    {
     "data": {
      "text/html": [
       "<div>\n",
       "<style scoped>\n",
       "    .dataframe tbody tr th:only-of-type {\n",
       "        vertical-align: middle;\n",
       "    }\n",
       "\n",
       "    .dataframe tbody tr th {\n",
       "        vertical-align: top;\n",
       "    }\n",
       "\n",
       "    .dataframe thead th {\n",
       "        text-align: right;\n",
       "    }\n",
       "</style>\n",
       "<table border=\"1\" class=\"dataframe\">\n",
       "  <thead>\n",
       "    <tr style=\"text-align: right;\">\n",
       "      <th></th>\n",
       "      <th>Unnamed: 0</th>\n",
       "      <th>Gender</th>\n",
       "      <th>Height</th>\n",
       "      <th>Weight</th>\n",
       "    </tr>\n",
       "  </thead>\n",
       "  <tbody>\n",
       "    <tr>\n",
       "      <th>0</th>\n",
       "      <td>0</td>\n",
       "      <td>Male</td>\n",
       "      <td>73.847017</td>\n",
       "      <td>241.893563</td>\n",
       "    </tr>\n",
       "    <tr>\n",
       "      <th>1</th>\n",
       "      <td>1</td>\n",
       "      <td>Male</td>\n",
       "      <td>68.781904</td>\n",
       "      <td>162.310473</td>\n",
       "    </tr>\n",
       "    <tr>\n",
       "      <th>2</th>\n",
       "      <td>2</td>\n",
       "      <td>Male</td>\n",
       "      <td>74.110105</td>\n",
       "      <td>212.740856</td>\n",
       "    </tr>\n",
       "    <tr>\n",
       "      <th>3</th>\n",
       "      <td>3</td>\n",
       "      <td>Male</td>\n",
       "      <td>71.730978</td>\n",
       "      <td>220.042470</td>\n",
       "    </tr>\n",
       "    <tr>\n",
       "      <th>4</th>\n",
       "      <td>4</td>\n",
       "      <td>Male</td>\n",
       "      <td>69.881796</td>\n",
       "      <td>206.349801</td>\n",
       "    </tr>\n",
       "  </tbody>\n",
       "</table>\n",
       "</div>"
      ],
      "text/plain": [
       "   Unnamed: 0 Gender     Height      Weight\n",
       "0           0   Male  73.847017  241.893563\n",
       "1           1   Male  68.781904  162.310473\n",
       "2           2   Male  74.110105  212.740856\n",
       "3           3   Male  71.730978  220.042470\n",
       "4           4   Male  69.881796  206.349801"
      ]
     },
     "execution_count": 103,
     "metadata": {},
     "output_type": "execute_result"
    }
   ],
   "source": [
    "df.head()"
   ]
  },
  {
   "cell_type": "code",
   "execution_count": 104,
   "id": "dc2ffd0f",
   "metadata": {},
   "outputs": [
    {
     "data": {
      "text/plain": [
       "count    10000.000000\n",
       "mean        66.367560\n",
       "std          3.847528\n",
       "min         54.263133\n",
       "25%         63.505620\n",
       "50%         66.318070\n",
       "75%         69.174262\n",
       "max         78.998742\n",
       "Name: Height, dtype: float64"
      ]
     },
     "execution_count": 104,
     "metadata": {},
     "output_type": "execute_result"
    }
   ],
   "source": [
    "df[\"Height\"].describecribe()"
   ]
  },
  {
   "cell_type": "code",
   "execution_count": 108,
   "id": "c312d20d",
   "metadata": {},
   "outputs": [
    {
     "data": {
      "text/plain": [
       "<AxesSubplot:xlabel='Height', ylabel='Density'>"
      ]
     },
     "execution_count": 108,
     "metadata": {},
     "output_type": "execute_result"
    },
    {
     "data": {
      "image/png": "[encoded data removed]",
      "text/plain": [
       "<Figure size 432x288 with 1 Axes>"
      ]
     },
     "metadata": {
      "needs_background": "light"
     },
     "output_type": "display_data"
    }
   ],
   "source": [
    "sns.distplot(df.Height)"
   ]
  },
  {
   "cell_type": "markdown",
   "id": "16d02ec3",
   "metadata": {},
   "source": [
    "##### almost normally distributed"
   ]
  },
  {
   "cell_type": "code",
   "execution_count": 109,
   "id": "cab8a585",
   "metadata": {},
   "outputs": [
    {
     "data": {
      "text/plain": [
       "<AxesSubplot:xlabel='Height'>"
      ]
     },
     "execution_count": 109,
     "metadata": {},
     "output_type": "execute_result"
    },
    {
     "data": {
      "image/png": "[encoded data removed]",
      "text/plain": [
       "<Figure size 432x288 with 1 Axes>"
      ]
     },
     "metadata": {
      "needs_background": "light"
     },
     "output_type": "display_data"
    }
   ],
   "source": [
    "sns.boxplot(df.Height)"
   ]
  },
  {
   "cell_type": "code",
   "execution_count": 110,
   "id": "1f8a97da",
   "metadata": {},
   "outputs": [],
   "source": [
    "# it have some outliers"
   ]
  },
  {
   "cell_type": "code",
   "execution_count": 111,
   "id": "9edfcb59",
   "metadata": {},
   "outputs": [],
   "source": [
    "# so we set a custom thresold"
   ]
  },
  {
   "cell_type": "code",
   "execution_count": 112,
   "id": "3dae1c69",
   "metadata": {},
   "outputs": [],
   "source": [
    "upper_limit=df[\"Height\"].quantile(0.99)\n",
    "lower_limit=df[\"Height\"].quantile(0.01)"
   ]
  },
  {
   "cell_type": "code",
   "execution_count": 113,
   "id": "50107dda",
   "metadata": {},
   "outputs": [
    {
     "data": {
      "text/plain": [
       "(74.7857900583366, 58.13441158671655)"
      ]
     },
     "execution_count": 113,
     "metadata": {},
     "output_type": "execute_result"
    }
   ],
   "source": [
    "upper_limit,lower_limit"
   ]
  },
  {
   "cell_type": "code",
   "execution_count": 114,
   "id": "14b2a039",
   "metadata": {},
   "outputs": [],
   "source": [
    "# not you have to be clear that you have to take equal amount ( symmetric ) for both upper and lower limit"
   ]
  },
  {
   "cell_type": "code",
   "execution_count": 116,
   "id": "5da61cba",
   "metadata": {},
   "outputs": [
    {
     "data": {
      "text/html": [
       "<div>\n",
       "<style scoped>\n",
       "    .dataframe tbody tr th:only-of-type {\n",
       "        vertical-align: middle;\n",
       "    }\n",
       "\n",
       "    .dataframe tbody tr th {\n",
       "        vertical-align: top;\n",
       "    }\n",
       "\n",
       "    .dataframe thead th {\n",
       "        text-align: right;\n",
       "    }\n",
       "</style>\n",
       "<table border=\"1\" class=\"dataframe\">\n",
       "  <thead>\n",
       "    <tr style=\"text-align: right;\">\n",
       "      <th></th>\n",
       "      <th>Unnamed: 0</th>\n",
       "      <th>Gender</th>\n",
       "      <th>Height</th>\n",
       "      <th>Weight</th>\n",
       "    </tr>\n",
       "  </thead>\n",
       "  <tbody>\n",
       "    <tr>\n",
       "      <th>23</th>\n",
       "      <td>23</td>\n",
       "      <td>Male</td>\n",
       "      <td>75.205974</td>\n",
       "      <td>228.761781</td>\n",
       "    </tr>\n",
       "    <tr>\n",
       "      <th>190</th>\n",
       "      <td>190</td>\n",
       "      <td>Male</td>\n",
       "      <td>76.709835</td>\n",
       "      <td>235.035419</td>\n",
       "    </tr>\n",
       "    <tr>\n",
       "      <th>197</th>\n",
       "      <td>197</td>\n",
       "      <td>Male</td>\n",
       "      <td>75.944460</td>\n",
       "      <td>231.924749</td>\n",
       "    </tr>\n",
       "    <tr>\n",
       "      <th>202</th>\n",
       "      <td>202</td>\n",
       "      <td>Male</td>\n",
       "      <td>75.140821</td>\n",
       "      <td>224.124271</td>\n",
       "    </tr>\n",
       "    <tr>\n",
       "      <th>215</th>\n",
       "      <td>215</td>\n",
       "      <td>Male</td>\n",
       "      <td>74.795375</td>\n",
       "      <td>232.635403</td>\n",
       "    </tr>\n",
       "    <tr>\n",
       "      <th>...</th>\n",
       "      <td>...</td>\n",
       "      <td>...</td>\n",
       "      <td>...</td>\n",
       "      <td>...</td>\n",
       "    </tr>\n",
       "    <tr>\n",
       "      <th>9761</th>\n",
       "      <td>9761</td>\n",
       "      <td>Female</td>\n",
       "      <td>56.975279</td>\n",
       "      <td>90.341784</td>\n",
       "    </tr>\n",
       "    <tr>\n",
       "      <th>9825</th>\n",
       "      <td>9825</td>\n",
       "      <td>Female</td>\n",
       "      <td>55.979198</td>\n",
       "      <td>85.417534</td>\n",
       "    </tr>\n",
       "    <tr>\n",
       "      <th>9895</th>\n",
       "      <td>9895</td>\n",
       "      <td>Female</td>\n",
       "      <td>57.740192</td>\n",
       "      <td>93.652957</td>\n",
       "    </tr>\n",
       "    <tr>\n",
       "      <th>9904</th>\n",
       "      <td>9904</td>\n",
       "      <td>Female</td>\n",
       "      <td>57.028857</td>\n",
       "      <td>101.202551</td>\n",
       "    </tr>\n",
       "    <tr>\n",
       "      <th>9978</th>\n",
       "      <td>9978</td>\n",
       "      <td>Female</td>\n",
       "      <td>57.375759</td>\n",
       "      <td>114.192209</td>\n",
       "    </tr>\n",
       "  </tbody>\n",
       "</table>\n",
       "<p>200 rows × 4 columns</p>\n",
       "</div>"
      ],
      "text/plain": [
       "      Unnamed: 0  Gender     Height      Weight\n",
       "23            23    Male  75.205974  228.761781\n",
       "190          190    Male  76.709835  235.035419\n",
       "197          197    Male  75.944460  231.924749\n",
       "202          202    Male  75.140821  224.124271\n",
       "215          215    Male  74.795375  232.635403\n",
       "...          ...     ...        ...         ...\n",
       "9761        9761  Female  56.975279   90.341784\n",
       "9825        9825  Female  55.979198   85.417534\n",
       "9895        9895  Female  57.740192   93.652957\n",
       "9904        9904  Female  57.028857  101.202551\n",
       "9978        9978  Female  57.375759  114.192209\n",
       "\n",
       "[200 rows x 4 columns]"
      ]
     },
     "execution_count": 116,
     "metadata": {},
     "output_type": "execute_result"
    }
   ],
   "source": [
    "df[(df[\"Height\"]>=upper_limit)  (df[\"Height\"]<=lower_limit)]"
   ]
  },
  {
   "cell_type": "code",
   "execution_count": 117,
   "id": "746fca87",
   "metadata": {},
   "outputs": [],
   "source": [
    "# 200 rows are not in the range  set by us"
   ]
  },
  {
   "cell_type": "code",
   "execution_count": 119,
   "id": "74da11c5",
   "metadata": {},
   "outputs": [],
   "source": [
    "# to exclude it\n",
    "new_df=df[(df[\"Height\"]<=upper_limit) & (df[\"Height\"]>=lower_limit)]"
   ]
  },
  {
   "cell_type": "code",
   "execution_count": 120,
   "id": "cbdc26e3",
   "metadata": {},
   "outputs": [
    {
     "data": {
      "text/html": [
       "<div>\n",
       "<style scoped>\n",
       "    .dataframe tbody tr th:only-of-type {\n",
       "        vertical-align: middle;\n",
       "    }\n",
       "\n",
       "    .dataframe tbody tr th {\n",
       "        vertical-align: top;\n",
       "    }\n",
       "\n",
       "    .dataframe thead th {\n",
       "        text-align: right;\n",
       "    }\n",
       "</style>\n",
       "<table border=\"1\" class=\"dataframe\">\n",
       "  <thead>\n",
       "    <tr style=\"text-align: right;\">\n",
       "      <th></th>\n",
       "      <th>Unnamed: 0</th>\n",
       "      <th>Gender</th>\n",
       "      <th>Height</th>\n",
       "      <th>Weight</th>\n",
       "    </tr>\n",
       "  </thead>\n",
       "  <tbody>\n",
       "    <tr>\n",
       "      <th>0</th>\n",
       "      <td>0</td>\n",
       "      <td>Male</td>\n",
       "      <td>73.847017</td>\n",
       "      <td>241.893563</td>\n",
       "    </tr>\n",
       "    <tr>\n",
       "      <th>1</th>\n",
       "      <td>1</td>\n",
       "      <td>Male</td>\n",
       "      <td>68.781904</td>\n",
       "      <td>162.310473</td>\n",
       "    </tr>\n",
       "    <tr>\n",
       "      <th>2</th>\n",
       "      <td>2</td>\n",
       "      <td>Male</td>\n",
       "      <td>74.110105</td>\n",
       "      <td>212.740856</td>\n",
       "    </tr>\n",
       "    <tr>\n",
       "      <th>3</th>\n",
       "      <td>3</td>\n",
       "      <td>Male</td>\n",
       "      <td>71.730978</td>\n",
       "      <td>220.042470</td>\n",
       "    </tr>\n",
       "    <tr>\n",
       "      <th>4</th>\n",
       "      <td>4</td>\n",
       "      <td>Male</td>\n",
       "      <td>69.881796</td>\n",
       "      <td>206.349801</td>\n",
       "    </tr>\n",
       "  </tbody>\n",
       "</table>\n",
       "</div>"
      ],
      "text/plain": [
       "   Unnamed: 0 Gender     Height      Weight\n",
       "0           0   Male  73.847017  241.893563\n",
       "1           1   Male  68.781904  162.310473\n",
       "2           2   Male  74.110105  212.740856\n",
       "3           3   Male  71.730978  220.042470\n",
       "4           4   Male  69.881796  206.349801"
      ]
     },
     "execution_count": 120,
     "metadata": {},
     "output_type": "execute_result"
    }
   ],
   "source": [
    "new_df.head()"
   ]
  },
  {
   "cell_type": "code",
   "execution_count": 124,
   "id": "f25d95a8",
   "metadata": {},
   "outputs": [
    {
     "data": {
      "text/plain": [
       "count    10000.000000\n",
       "mean        66.367560\n",
       "std          3.847528\n",
       "min         54.263133\n",
       "25%         63.505620\n",
       "50%         66.318070\n",
       "75%         69.174262\n",
       "max         78.998742\n",
       "Name: Height, dtype: float64"
      ]
     },
     "execution_count": 124,
     "metadata": {},
     "output_type": "execute_result"
    }
   ],
   "source": [
    "# originally\n",
    "df.Height.describe()"
   ]
  },
  {
   "cell_type": "code",
   "execution_count": 125,
   "id": "246a93bc",
   "metadata": {},
   "outputs": [
    {
     "data": {
      "text/plain": [
       "count    9800.000000\n",
       "mean       66.364366\n",
       "std         3.645075\n",
       "min        58.134496\n",
       "25%        63.577162\n",
       "50%        66.318070\n",
       "75%        69.119896\n",
       "max        74.785714\n",
       "Name: Height, dtype: float64"
      ]
     },
     "execution_count": 125,
     "metadata": {},
     "output_type": "execute_result"
    }
   ],
   "source": [
    "new_df.Height.describe()"
   ]
  },
  {
   "cell_type": "markdown",
   "id": "73177417",
   "metadata": {},
   "source": [
    "SD-> chnaged\n",
    "min_vale-> increased\n",
    "max_vale-> decreased\n",
    "other -> almost same"
   ]
  },
  {
   "cell_type": "code",
   "execution_count": 126,
   "id": "da0a2224",
   "metadata": {},
   "outputs": [
    {
     "data": {
      "text/plain": [
       "<AxesSubplot:xlabel='Height', ylabel='Density'>"
      ]
     },
     "execution_count": 126,
     "metadata": {},
     "output_type": "execute_result"
    },
    {
     "data": {
      "image/png": "[encoded data removed]",
      "text/plain": [
       "<Figure size 432x288 with 1 Axes>"
      ]
     },
     "metadata": {
      "needs_background": "light"
     },
     "output_type": "display_data"
    }
   ],
   "source": [
    "sns.distplot(new_df.Height)"
   ]
  },
  {
   "cell_type": "code",
   "execution_count": 127,
   "id": "9d5b8066",
   "metadata": {},
   "outputs": [],
   "source": [
    "# not much variation"
   ]
  },
  {
   "cell_type": "code",
   "execution_count": 128,
   "id": "1adc705c",
   "metadata": {},
   "outputs": [
    {
     "data": {
      "text/plain": [
       "<AxesSubplot:xlabel='Height'>"
      ]
     },
     "execution_count": 128,
     "metadata": {},
     "output_type": "execute_result"
    },
    {
     "data": {
      "image/png": "[encoded data removed]",
      "text/plain": [
       "<Figure size 432x288 with 1 Axes>"
      ]
     },
     "metadata": {
      "needs_background": "light"
     },
     "output_type": "display_data"
    }
   ],
   "source": [
    "sns.boxplot(new_df.Height)"
   ]
  },
  {
   "cell_type": "code",
   "execution_count": null,
   "id": "15cd16c1",
   "metadata": {},
   "outputs": [],
   "source": [
    "# it is showing no outlier"
   ]
  },
  {
   "cell_type": "code",
   "execution_count": 129,
   "id": "e9069845",
   "metadata": {},
   "outputs": [],
   "source": [
    "##### capping- > Winsorization Technique"
   ]
  },
  {
   "cell_type": "code",
   "execution_count": 130,
   "id": "04bc381d",
   "metadata": {},
   "outputs": [],
   "source": [
    "df['Height'] = np.where(\n",
    "    df['Height']>upper_limit,\n",
    "    upper_limit,\n",
    "    np.where(\n",
    "        df['Height']<lower_limit,\n",
    "        lower_limit,\n",
    "        df['Height']\n",
    "    )\n",
    ")"
   ]
  },
  {
   "cell_type": "code",
   "execution_count": 131,
   "id": "e0c051ee",
   "metadata": {},
   "outputs": [
    {
     "data": {
      "text/plain": [
       "(10000, 4)"
      ]
     },
     "execution_count": 131,
     "metadata": {},
     "output_type": "execute_result"
    }
   ],
   "source": [
    "df.shape"
   ]
  },
  {
   "cell_type": "code",
   "execution_count": 133,
   "id": "161f69f8",
   "metadata": {},
   "outputs": [
    {
     "data": {
      "text/plain": [
       "count    10000.000000\n",
       "mean        66.366281\n",
       "std          3.795717\n",
       "min         58.134412\n",
       "25%         63.505620\n",
       "50%         66.318070\n",
       "75%         69.174262\n",
       "max         74.785790\n",
       "Name: Height, dtype: float64"
      ]
     },
     "execution_count": 133,
     "metadata": {},
     "output_type": "execute_result"
    }
   ],
   "source": [
    "# after Winsorization Technique\n",
    "df.Height.describe()"
   ]
  },
  {
   "cell_type": "code",
   "execution_count": 134,
   "id": "37f1cec7",
   "metadata": {},
   "outputs": [
    {
     "data": {
      "text/plain": [
       "<AxesSubplot:xlabel='Height', ylabel='Density'>"
      ]
     },
     "execution_count": 134,
     "metadata": {},
     "output_type": "execute_result"
    },
    {
     "data": {
      "image/png": "[encoded data removed]",
      "text/plain": [
       "<Figure size 432x288 with 1 Axes>"
      ]
     },
     "metadata": {
      "needs_background": "light"
     },
     "output_type": "display_data"
    }
   ],
   "source": [
    "sns.distplot(df.Height)"
   ]
  },
  {
   "cell_type": "code",
   "execution_count": 135,
   "id": "e881db52",
   "metadata": {},
   "outputs": [
    {
     "data": {
      "text/plain": [
       "<AxesSubplot:xlabel='Height'>"
      ]
     },
     "execution_count": 135,
     "metadata": {},
     "output_type": "execute_result"
    },
    {
     "data": {
      "image/png": "[encoded data removed]",
      "text/plain": [
       "<Figure size 432x288 with 1 Axes>"
      ]
     },
     "metadata": {
      "needs_background": "light"
     },
     "output_type": "display_data"
    }
   ],
   "source": [
    "sns.boxplot(df.Height)"
   ]
  },
  {
   "cell_type": "code",
   "execution_count": null,
   "id": "5e750ea8",
   "metadata": {},
   "outputs": [],
   "source": [
    "s"
   ]
  }
 ],
 "metadata": {
  "kernelspec": {
   "display_name": "Python 3 (ipykernel)",
   "language": "python",
   "name": "python3"
  },
  "language_info": {
   "codemirror_mode": {
    "name": "ipython",
    "version": 3
   },
   "file_extension": ".py",
   "mimetype": "text/x-python",
   "name": "python",
   "nbconvert_exporter": "python",
   "pygments_lexer": "ipython3",
   "version": "3.9.12"
  }
 },
 "nbformat": 4,
 "nbformat_minor": 5
}
