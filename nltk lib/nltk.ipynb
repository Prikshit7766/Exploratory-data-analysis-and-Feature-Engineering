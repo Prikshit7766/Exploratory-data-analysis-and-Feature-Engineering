{
 "cells": [
  {
   "cell_type": "code",
   "execution_count": 5,
   "id": "0460fbad",
   "metadata": {},
   "outputs": [
    {
     "name": "stderr",
     "output_type": "stream",
     "text": [
      "[nltk_data] Downloading package punkt to\n",
      "[nltk_data]     C:\\Users\\HP\\AppData\\Roaming\\nltk_data...\n",
      "[nltk_data]   Unzipping tokenizers\\punkt.zip.\n"
     ]
    },
    {
     "data": {
      "text/plain": [
       "True"
      ]
     },
     "execution_count": 5,
     "metadata": {},
     "output_type": "execute_result"
    }
   ],
   "source": [
    "import nltk\n",
    "nltk.download('punkt')"
   ]
  },
  {
   "cell_type": "code",
   "execution_count": 17,
   "id": "cd82e133",
   "metadata": {},
   "outputs": [
    {
     "name": "stderr",
     "output_type": "stream",
     "text": [
      "[nltk_data] Downloading package averaged_perceptron_tagger to\n",
      "[nltk_data]     C:\\Users\\HP\\AppData\\Roaming\\nltk_data...\n",
      "[nltk_data]   Unzipping taggers\\averaged_perceptron_tagger.zip.\n"
     ]
    },
    {
     "data": {
      "text/plain": [
       "True"
      ]
     },
     "execution_count": 17,
     "metadata": {},
     "output_type": "execute_result"
    }
   ],
   "source": [
    "nltk.download('averaged_perceptron_tagger')"
   ]
  },
  {
   "cell_type": "code",
   "execution_count": 24,
   "id": "410f5b93",
   "metadata": {},
   "outputs": [
    {
     "name": "stderr",
     "output_type": "stream",
     "text": [
      "[nltk_data] Downloading package maxent_treebank_pos_tagger to\n",
      "[nltk_data]     C:\\Users\\HP\\AppData\\Roaming\\nltk_data...\n",
      "[nltk_data]   Unzipping taggers\\maxent_treebank_pos_tagger.zip.\n"
     ]
    },
    {
     "data": {
      "text/plain": [
       "True"
      ]
     },
     "execution_count": 24,
     "metadata": {},
     "output_type": "execute_result"
    }
   ],
   "source": [
    "nltk.download('maxent_treebank_pos_tagger')"
   ]
  },
  {
   "cell_type": "code",
   "execution_count": 58,
   "id": "e0a2d23e",
   "metadata": {},
   "outputs": [
    {
     "name": "stderr",
     "output_type": "stream",
     "text": [
      "[nltk_data] Downloading package wordnet to\n",
      "[nltk_data]     C:\\Users\\HP\\AppData\\Roaming\\nltk_data...\n"
     ]
    },
    {
     "data": {
      "text/plain": [
       "True"
      ]
     },
     "execution_count": 58,
     "metadata": {},
     "output_type": "execute_result"
    }
   ],
   "source": [
    "nltk.download('wordnet')"
   ]
  },
  {
   "cell_type": "code",
   "execution_count": 60,
   "id": "31271a17",
   "metadata": {},
   "outputs": [
    {
     "name": "stderr",
     "output_type": "stream",
     "text": [
      "[nltk_data] Downloading package omw-1.4 to\n",
      "[nltk_data]     C:\\Users\\HP\\AppData\\Roaming\\nltk_data...\n"
     ]
    },
    {
     "data": {
      "text/plain": [
       "True"
      ]
     },
     "execution_count": 60,
     "metadata": {},
     "output_type": "execute_result"
    }
   ],
   "source": [
    "nltk.download('omw-1.4')"
   ]
  },
  {
   "cell_type": "code",
   "execution_count": 1,
   "id": "280cd2c3",
   "metadata": {},
   "outputs": [
    {
     "name": "stdout",
     "output_type": "stream",
     "text": [
      "Requirement already satisfied: nltk in c:\\users\\hp\\anaconda3\\envs\\all\\lib\\site-packages (3.8.1)\n",
      "Requirement already satisfied: click in c:\\users\\hp\\anaconda3\\envs\\all\\lib\\site-packages (from nltk) (8.1.3)\n",
      "Requirement already satisfied: regex>=2021.8.3 in c:\\users\\hp\\anaconda3\\envs\\all\\lib\\site-packages (from nltk) (2022.10.31)\n",
      "Requirement already satisfied: tqdm in c:\\users\\hp\\anaconda3\\envs\\all\\lib\\site-packages (from nltk) (4.64.1)\n",
      "Requirement already satisfied: joblib in c:\\users\\hp\\anaconda3\\envs\\all\\lib\\site-packages (from nltk) (1.2.0)\n",
      "Requirement already satisfied: colorama in c:\\users\\hp\\anaconda3\\envs\\all\\lib\\site-packages (from click->nltk) (0.4.6)\n",
      "Requirement already satisfied: importlib-metadata in c:\\users\\hp\\anaconda3\\envs\\all\\lib\\site-packages (from click->nltk) (4.11.3)\n",
      "Requirement already satisfied: zipp>=0.5 in c:\\users\\hp\\anaconda3\\envs\\all\\lib\\site-packages (from importlib-metadata->click->nltk) (3.11.0)\n",
      "Requirement already satisfied: typing-extensions>=3.6.4 in c:\\users\\hp\\anaconda3\\envs\\all\\lib\\site-packages (from importlib-metadata->click->nltk) (4.4.0)\n"
     ]
    }
   ],
   "source": [
    "!pip install nltk"
   ]
  },
  {
   "cell_type": "code",
   "execution_count": 10,
   "id": "aca365bb",
   "metadata": {},
   "outputs": [],
   "source": [
    "text = \"\"\"Data science is an interdisciplinary field that uses scientific methods, processes, algorithms and systems to extract knowledge and insights from noisy, structured and unstructured data,[1][2] and apply knowledge and actionable insights from data across a broad range of application domains. Data science is related to data mining, machine learning and big data.\n",
    "\n",
    "Data science is a \"concept to unify statistics, data analysis, informatics, and their related methods\" in order to \"understand and analyze actual phenomena\" with data.[3] It uses techniques and theories drawn from many fields within the context of mathematics, statistics, computer science, information science, and domain knowledge. However, data science is different from computer science and information science. Turing Award winner Jim Gray imagined data science as a \"fourth paradigm\" of science (empirical, theoretical, computational, and now data-driven) and asserted that \"everything about science is changing because of the impact of information technology\" and the data deluge.[4][5]\n",
    "\n",
    "A data scientist is someone who creates programming code, and combines it with statistical knowledge to create insights on business data.[6]\"\"\""
   ]
  },
  {
   "cell_type": "code",
   "execution_count": 11,
   "id": "554c303f",
   "metadata": {},
   "outputs": [],
   "source": [
    "# converting the paragraph into sentences"
   ]
  },
  {
   "cell_type": "code",
   "execution_count": 12,
   "id": "c0e46cb2",
   "metadata": {
    "scrolled": true
   },
   "outputs": [
    {
     "data": {
      "text/plain": [
       "'Data science is a \"concept to unify statistics, data analysis, informatics, and their related methods\" in order to \"understand and analyze actual phenomena\" with data.'"
      ]
     },
     "execution_count": 12,
     "metadata": {},
     "output_type": "execute_result"
    }
   ],
   "source": [
    "nltk.sent_tokenize(text)[2]"
   ]
  },
  {
   "cell_type": "code",
   "execution_count": null,
   "id": "f4345e97",
   "metadata": {},
   "outputs": [],
   "source": [
    "# breakdown the the entire code into words"
   ]
  },
  {
   "cell_type": "code",
   "execution_count": 13,
   "id": "14e9fc84",
   "metadata": {},
   "outputs": [
    {
     "data": {
      "text/plain": [
       "['Data',\n",
       " 'science',\n",
       " 'is',\n",
       " 'an',\n",
       " 'interdisciplinary',\n",
       " 'field',\n",
       " 'that',\n",
       " 'uses',\n",
       " 'scientific',\n",
       " 'methods',\n",
       " ',',\n",
       " 'processes',\n",
       " ',',\n",
       " 'algorithms',\n",
       " 'and',\n",
       " 'systems',\n",
       " 'to',\n",
       " 'extract',\n",
       " 'knowledge',\n",
       " 'and',\n",
       " 'insights',\n",
       " 'from',\n",
       " 'noisy',\n",
       " ',',\n",
       " 'structured',\n",
       " 'and',\n",
       " 'unstructured',\n",
       " 'data',\n",
       " ',',\n",
       " '[',\n",
       " '1',\n",
       " ']',\n",
       " '[',\n",
       " '2',\n",
       " ']',\n",
       " 'and',\n",
       " 'apply',\n",
       " 'knowledge',\n",
       " 'and',\n",
       " 'actionable',\n",
       " 'insights',\n",
       " 'from',\n",
       " 'data',\n",
       " 'across',\n",
       " 'a',\n",
       " 'broad',\n",
       " 'range',\n",
       " 'of',\n",
       " 'application',\n",
       " 'domains',\n",
       " '.',\n",
       " 'Data',\n",
       " 'science',\n",
       " 'is',\n",
       " 'related',\n",
       " 'to',\n",
       " 'data',\n",
       " 'mining',\n",
       " ',',\n",
       " 'machine',\n",
       " 'learning',\n",
       " 'and',\n",
       " 'big',\n",
       " 'data',\n",
       " '.',\n",
       " 'Data',\n",
       " 'science',\n",
       " 'is',\n",
       " 'a',\n",
       " '``',\n",
       " 'concept',\n",
       " 'to',\n",
       " 'unify',\n",
       " 'statistics',\n",
       " ',',\n",
       " 'data',\n",
       " 'analysis',\n",
       " ',',\n",
       " 'informatics',\n",
       " ',',\n",
       " 'and',\n",
       " 'their',\n",
       " 'related',\n",
       " 'methods',\n",
       " \"''\",\n",
       " 'in',\n",
       " 'order',\n",
       " 'to',\n",
       " '``',\n",
       " 'understand',\n",
       " 'and',\n",
       " 'analyze',\n",
       " 'actual',\n",
       " 'phenomena',\n",
       " \"''\",\n",
       " 'with',\n",
       " 'data',\n",
       " '.',\n",
       " '[',\n",
       " '3',\n",
       " ']',\n",
       " 'It',\n",
       " 'uses',\n",
       " 'techniques',\n",
       " 'and',\n",
       " 'theories',\n",
       " 'drawn',\n",
       " 'from',\n",
       " 'many',\n",
       " 'fields',\n",
       " 'within',\n",
       " 'the',\n",
       " 'context',\n",
       " 'of',\n",
       " 'mathematics',\n",
       " ',',\n",
       " 'statistics',\n",
       " ',',\n",
       " 'computer',\n",
       " 'science',\n",
       " ',',\n",
       " 'information',\n",
       " 'science',\n",
       " ',',\n",
       " 'and',\n",
       " 'domain',\n",
       " 'knowledge',\n",
       " '.',\n",
       " 'However',\n",
       " ',',\n",
       " 'data',\n",
       " 'science',\n",
       " 'is',\n",
       " 'different',\n",
       " 'from',\n",
       " 'computer',\n",
       " 'science',\n",
       " 'and',\n",
       " 'information',\n",
       " 'science',\n",
       " '.',\n",
       " 'Turing',\n",
       " 'Award',\n",
       " 'winner',\n",
       " 'Jim',\n",
       " 'Gray',\n",
       " 'imagined',\n",
       " 'data',\n",
       " 'science',\n",
       " 'as',\n",
       " 'a',\n",
       " '``',\n",
       " 'fourth',\n",
       " 'paradigm',\n",
       " \"''\",\n",
       " 'of',\n",
       " 'science',\n",
       " '(',\n",
       " 'empirical',\n",
       " ',',\n",
       " 'theoretical',\n",
       " ',',\n",
       " 'computational',\n",
       " ',',\n",
       " 'and',\n",
       " 'now',\n",
       " 'data-driven',\n",
       " ')',\n",
       " 'and',\n",
       " 'asserted',\n",
       " 'that',\n",
       " '``',\n",
       " 'everything',\n",
       " 'about',\n",
       " 'science',\n",
       " 'is',\n",
       " 'changing',\n",
       " 'because',\n",
       " 'of',\n",
       " 'the',\n",
       " 'impact',\n",
       " 'of',\n",
       " 'information',\n",
       " 'technology',\n",
       " \"''\",\n",
       " 'and',\n",
       " 'the',\n",
       " 'data',\n",
       " 'deluge',\n",
       " '.',\n",
       " '[',\n",
       " '4',\n",
       " ']',\n",
       " '[',\n",
       " '5',\n",
       " ']',\n",
       " 'A',\n",
       " 'data',\n",
       " 'scientist',\n",
       " 'is',\n",
       " 'someone',\n",
       " 'who',\n",
       " 'creates',\n",
       " 'programming',\n",
       " 'code',\n",
       " ',',\n",
       " 'and',\n",
       " 'combines',\n",
       " 'it',\n",
       " 'with',\n",
       " 'statistical',\n",
       " 'knowledge',\n",
       " 'to',\n",
       " 'create',\n",
       " 'insights',\n",
       " 'on',\n",
       " 'business',\n",
       " 'data',\n",
       " '.',\n",
       " '[',\n",
       " '6',\n",
       " ']']"
      ]
     },
     "execution_count": 13,
     "metadata": {},
     "output_type": "execute_result"
    }
   ],
   "source": [
    "nltk.word_tokenize(text)"
   ]
  },
  {
   "cell_type": "code",
   "execution_count": 19,
   "id": "72401d80",
   "metadata": {},
   "outputs": [],
   "source": [
    "text1 = \"we are trying to test nltk lib , in ineuron class \""
   ]
  },
  {
   "cell_type": "code",
   "execution_count": 20,
   "id": "5ff68892",
   "metadata": {},
   "outputs": [],
   "source": [
    "# to find what is noun pronoun adjective verb --> it is also possible"
   ]
  },
  {
   "cell_type": "markdown",
   "id": "003f3093",
   "metadata": {},
   "source": [
    "- Parts of speech tags"
   ]
  },
  {
   "cell_type": "code",
   "execution_count": 26,
   "id": "82b21e6c",
   "metadata": {},
   "outputs": [
    {
     "data": {
      "text/plain": [
       "[('we', 'PRP'),\n",
       " ('are', 'VBP'),\n",
       " ('trying', 'VBG'),\n",
       " ('to', 'TO'),\n",
       " ('test', 'VB'),\n",
       " ('nltk', 'JJ'),\n",
       " ('lib', 'NN'),\n",
       " (',', ','),\n",
       " ('in', 'IN'),\n",
       " ('ineuron', 'NN'),\n",
       " ('class', 'NN')]"
      ]
     },
     "execution_count": 26,
     "metadata": {},
     "output_type": "execute_result"
    }
   ],
   "source": [
    "nltk.pos_tag(text1.split()) # --> to get the parts of speech for each and every word"
   ]
  },
  {
   "cell_type": "code",
   "execution_count": 27,
   "id": "b0858746",
   "metadata": {},
   "outputs": [
    {
     "data": {
      "text/plain": [
       "[('we', 'PRP'),\n",
       " ('are', 'VBP'),\n",
       " ('trying', 'VBG'),\n",
       " ('to', 'TO'),\n",
       " ('test', 'VB'),\n",
       " ('nltk', 'JJ'),\n",
       " ('lib', 'NN'),\n",
       " (',', ','),\n",
       " ('in', 'IN'),\n",
       " ('ineuron', 'NN'),\n",
       " ('class', 'NN')]"
      ]
     },
     "execution_count": 27,
     "metadata": {},
     "output_type": "execute_result"
    }
   ],
   "source": [
    "#or\n",
    "nltk.pos_tag(nltk.word_tokenize(text1))"
   ]
  },
  {
   "cell_type": "markdown",
   "id": "8c0ee07f",
   "metadata": {},
   "source": [
    "https://www.nltk.org/book/ch05.html"
   ]
  },
  {
   "cell_type": "markdown",
   "id": "3eb4e716",
   "metadata": {},
   "source": [
    "- stop words"
   ]
  },
  {
   "cell_type": "markdown",
   "id": "b1b5f88f",
   "metadata": {},
   "source": [
    "The words which are generally filtered out before processing a natural language are called stop words. These are actually the most common words in any language (like articles, prepositions, pronouns, conjunctions, etc) and does not add much information to the text"
   ]
  },
  {
   "cell_type": "code",
   "execution_count": 31,
   "id": "1b2d6cb0",
   "metadata": {},
   "outputs": [
    {
     "data": {
      "text/plain": [
       "['i',\n",
       " 'me',\n",
       " 'my',\n",
       " 'myself',\n",
       " 'we',\n",
       " 'our',\n",
       " 'ours',\n",
       " 'ourselves',\n",
       " 'you',\n",
       " \"you're\",\n",
       " \"you've\",\n",
       " \"you'll\",\n",
       " \"you'd\",\n",
       " 'your',\n",
       " 'yours',\n",
       " 'yourself',\n",
       " 'yourselves',\n",
       " 'he',\n",
       " 'him',\n",
       " 'his',\n",
       " 'himself',\n",
       " 'she',\n",
       " \"she's\",\n",
       " 'her',\n",
       " 'hers',\n",
       " 'herself',\n",
       " 'it',\n",
       " \"it's\",\n",
       " 'its',\n",
       " 'itself',\n",
       " 'they',\n",
       " 'them',\n",
       " 'their',\n",
       " 'theirs',\n",
       " 'themselves',\n",
       " 'what',\n",
       " 'which',\n",
       " 'who',\n",
       " 'whom',\n",
       " 'this',\n",
       " 'that',\n",
       " \"that'll\",\n",
       " 'these',\n",
       " 'those',\n",
       " 'am',\n",
       " 'is',\n",
       " 'are',\n",
       " 'was',\n",
       " 'were',\n",
       " 'be',\n",
       " 'been',\n",
       " 'being',\n",
       " 'have',\n",
       " 'has',\n",
       " 'had',\n",
       " 'having',\n",
       " 'do',\n",
       " 'does',\n",
       " 'did',\n",
       " 'doing',\n",
       " 'a',\n",
       " 'an',\n",
       " 'the',\n",
       " 'and',\n",
       " 'but',\n",
       " 'if',\n",
       " 'or',\n",
       " 'because',\n",
       " 'as',\n",
       " 'until',\n",
       " 'while',\n",
       " 'of',\n",
       " 'at',\n",
       " 'by',\n",
       " 'for',\n",
       " 'with',\n",
       " 'about',\n",
       " 'against',\n",
       " 'between',\n",
       " 'into',\n",
       " 'through',\n",
       " 'during',\n",
       " 'before',\n",
       " 'after',\n",
       " 'above',\n",
       " 'below',\n",
       " 'to',\n",
       " 'from',\n",
       " 'up',\n",
       " 'down',\n",
       " 'in',\n",
       " 'out',\n",
       " 'on',\n",
       " 'off',\n",
       " 'over',\n",
       " 'under',\n",
       " 'again',\n",
       " 'further',\n",
       " 'then',\n",
       " 'once',\n",
       " 'here',\n",
       " 'there',\n",
       " 'when',\n",
       " 'where',\n",
       " 'why',\n",
       " 'how',\n",
       " 'all',\n",
       " 'any',\n",
       " 'both',\n",
       " 'each',\n",
       " 'few',\n",
       " 'more',\n",
       " 'most',\n",
       " 'other',\n",
       " 'some',\n",
       " 'such',\n",
       " 'no',\n",
       " 'nor',\n",
       " 'not',\n",
       " 'only',\n",
       " 'own',\n",
       " 'same',\n",
       " 'so',\n",
       " 'than',\n",
       " 'too',\n",
       " 'very',\n",
       " 's',\n",
       " 't',\n",
       " 'can',\n",
       " 'will',\n",
       " 'just',\n",
       " 'don',\n",
       " \"don't\",\n",
       " 'should',\n",
       " \"should've\",\n",
       " 'now',\n",
       " 'd',\n",
       " 'll',\n",
       " 'm',\n",
       " 'o',\n",
       " 're',\n",
       " 've',\n",
       " 'y',\n",
       " 'ain',\n",
       " 'aren',\n",
       " \"aren't\",\n",
       " 'couldn',\n",
       " \"couldn't\",\n",
       " 'didn',\n",
       " \"didn't\",\n",
       " 'doesn',\n",
       " \"doesn't\",\n",
       " 'hadn',\n",
       " \"hadn't\",\n",
       " 'hasn',\n",
       " \"hasn't\",\n",
       " 'haven',\n",
       " \"haven't\",\n",
       " 'isn',\n",
       " \"isn't\",\n",
       " 'ma',\n",
       " 'mightn',\n",
       " \"mightn't\",\n",
       " 'mustn',\n",
       " \"mustn't\",\n",
       " 'needn',\n",
       " \"needn't\",\n",
       " 'shan',\n",
       " \"shan't\",\n",
       " 'shouldn',\n",
       " \"shouldn't\",\n",
       " 'wasn',\n",
       " \"wasn't\",\n",
       " 'weren',\n",
       " \"weren't\",\n",
       " 'won',\n",
       " \"won't\",\n",
       " 'wouldn',\n",
       " \"wouldn't\"]"
      ]
     },
     "execution_count": 31,
     "metadata": {},
     "output_type": "execute_result"
    }
   ],
   "source": [
    "from nltk.corpus import stopwords\n",
    "stopwords.words(\"english\") # --> these are the stop words in the english language"
   ]
  },
  {
   "cell_type": "code",
   "execution_count": 37,
   "id": "fdf4eb24",
   "metadata": {},
   "outputs": [],
   "source": [
    "stop_word=stopwords.words(\"english\")"
   ]
  },
  {
   "cell_type": "code",
   "execution_count": 35,
   "id": "082fcb0a",
   "metadata": {},
   "outputs": [],
   "source": [
    "# you can also acess stop words in different language --> just you need to install the pakage"
   ]
  },
  {
   "cell_type": "markdown",
   "id": "c0674ae4",
   "metadata": {},
   "source": [
    "- puncutuaion marks"
   ]
  },
  {
   "cell_type": "code",
   "execution_count": 36,
   "id": "d7d38680",
   "metadata": {},
   "outputs": [
    {
     "data": {
      "text/plain": [
       "'!\"#$%&\\'()*+,-./:;<=>?@[\\\\]^_`{|}~'"
      ]
     },
     "execution_count": 36,
     "metadata": {},
     "output_type": "execute_result"
    }
   ],
   "source": [
    "import string\n",
    "string.punctuation"
   ]
  },
  {
   "cell_type": "code",
   "execution_count": 38,
   "id": "b6647002",
   "metadata": {},
   "outputs": [],
   "source": [
    "punch=string.punctuation"
   ]
  },
  {
   "cell_type": "markdown",
   "id": "3eeec4d7",
   "metadata": {},
   "source": [
    "- remove all the stop words from the text --> to do data cleanzing"
   ]
  },
  {
   "cell_type": "code",
   "execution_count": 41,
   "id": "4b970acb",
   "metadata": {},
   "outputs": [],
   "source": [
    "l=[]\n",
    "for word in nltk.word_tokenize(text):\n",
    "    if word not in punch:\n",
    "        if word not in stop_word:\n",
    "            l.append(word)"
   ]
  },
  {
   "cell_type": "code",
   "execution_count": 42,
   "id": "1f1fef12",
   "metadata": {},
   "outputs": [
    {
     "data": {
      "text/plain": [
       "['Data',\n",
       " 'science',\n",
       " 'interdisciplinary',\n",
       " 'field',\n",
       " 'uses',\n",
       " 'scientific',\n",
       " 'methods',\n",
       " 'processes',\n",
       " 'algorithms',\n",
       " 'systems',\n",
       " 'extract',\n",
       " 'knowledge',\n",
       " 'insights',\n",
       " 'noisy',\n",
       " 'structured',\n",
       " 'unstructured',\n",
       " 'data',\n",
       " '1',\n",
       " '2',\n",
       " 'apply',\n",
       " 'knowledge',\n",
       " 'actionable',\n",
       " 'insights',\n",
       " 'data',\n",
       " 'across',\n",
       " 'broad',\n",
       " 'range',\n",
       " 'application',\n",
       " 'domains',\n",
       " 'Data',\n",
       " 'science',\n",
       " 'related',\n",
       " 'data',\n",
       " 'mining',\n",
       " 'machine',\n",
       " 'learning',\n",
       " 'big',\n",
       " 'data',\n",
       " 'Data',\n",
       " 'science',\n",
       " '``',\n",
       " 'concept',\n",
       " 'unify',\n",
       " 'statistics',\n",
       " 'data',\n",
       " 'analysis',\n",
       " 'informatics',\n",
       " 'related',\n",
       " 'methods',\n",
       " \"''\",\n",
       " 'order',\n",
       " '``',\n",
       " 'understand',\n",
       " 'analyze',\n",
       " 'actual',\n",
       " 'phenomena',\n",
       " \"''\",\n",
       " 'data',\n",
       " '3',\n",
       " 'It',\n",
       " 'uses',\n",
       " 'techniques',\n",
       " 'theories',\n",
       " 'drawn',\n",
       " 'many',\n",
       " 'fields',\n",
       " 'within',\n",
       " 'context',\n",
       " 'mathematics',\n",
       " 'statistics',\n",
       " 'computer',\n",
       " 'science',\n",
       " 'information',\n",
       " 'science',\n",
       " 'domain',\n",
       " 'knowledge',\n",
       " 'However',\n",
       " 'data',\n",
       " 'science',\n",
       " 'different',\n",
       " 'computer',\n",
       " 'science',\n",
       " 'information',\n",
       " 'science',\n",
       " 'Turing',\n",
       " 'Award',\n",
       " 'winner',\n",
       " 'Jim',\n",
       " 'Gray',\n",
       " 'imagined',\n",
       " 'data',\n",
       " 'science',\n",
       " '``',\n",
       " 'fourth',\n",
       " 'paradigm',\n",
       " \"''\",\n",
       " 'science',\n",
       " 'empirical',\n",
       " 'theoretical',\n",
       " 'computational',\n",
       " 'data-driven',\n",
       " 'asserted',\n",
       " '``',\n",
       " 'everything',\n",
       " 'science',\n",
       " 'changing',\n",
       " 'impact',\n",
       " 'information',\n",
       " 'technology',\n",
       " \"''\",\n",
       " 'data',\n",
       " 'deluge',\n",
       " '4',\n",
       " '5',\n",
       " 'A',\n",
       " 'data',\n",
       " 'scientist',\n",
       " 'someone',\n",
       " 'creates',\n",
       " 'programming',\n",
       " 'code',\n",
       " 'combines',\n",
       " 'statistical',\n",
       " 'knowledge',\n",
       " 'create',\n",
       " 'insights',\n",
       " 'business',\n",
       " 'data',\n",
       " '6']"
      ]
     },
     "execution_count": 42,
     "metadata": {},
     "output_type": "execute_result"
    }
   ],
   "source": [
    "l # --> not that much clean but still "
   ]
  },
  {
   "cell_type": "code",
   "execution_count": 43,
   "id": "550a2a9d",
   "metadata": {},
   "outputs": [
    {
     "data": {
      "text/plain": [
       "[('Data', 'NNP'),\n",
       " ('science', 'NN'),\n",
       " ('interdisciplinary', 'JJ'),\n",
       " ('field', 'NN'),\n",
       " ('uses', 'VBZ'),\n",
       " ('scientific', 'JJ'),\n",
       " ('methods', 'NNS'),\n",
       " ('processes', 'VBZ'),\n",
       " ('algorithms', 'JJ'),\n",
       " ('systems', 'NNS'),\n",
       " ('extract', 'JJ'),\n",
       " ('knowledge', 'JJ'),\n",
       " ('insights', 'NNS'),\n",
       " ('noisy', 'RB'),\n",
       " ('structured', 'VBD'),\n",
       " ('unstructured', 'JJ'),\n",
       " ('data', 'NNS'),\n",
       " ('1', 'CD'),\n",
       " ('2', 'CD'),\n",
       " ('apply', 'NN'),\n",
       " ('knowledge', 'NN'),\n",
       " ('actionable', 'JJ'),\n",
       " ('insights', 'NNS'),\n",
       " ('data', 'NNS'),\n",
       " ('across', 'IN'),\n",
       " ('broad', 'JJ'),\n",
       " ('range', 'NN'),\n",
       " ('application', 'NN'),\n",
       " ('domains', 'VBZ'),\n",
       " ('Data', 'NNP'),\n",
       " ('science', 'NN'),\n",
       " ('related', 'VBN'),\n",
       " ('data', 'NNS'),\n",
       " ('mining', 'NN'),\n",
       " ('machine', 'NN'),\n",
       " ('learning', 'VBG'),\n",
       " ('big', 'JJ'),\n",
       " ('data', 'NNS'),\n",
       " ('Data', 'NNP'),\n",
       " ('science', 'NN'),\n",
       " ('``', '``'),\n",
       " ('concept', 'JJ'),\n",
       " ('unify', 'JJ'),\n",
       " ('statistics', 'NNS'),\n",
       " ('data', 'NNS'),\n",
       " ('analysis', 'NN'),\n",
       " ('informatics', 'NNS'),\n",
       " ('related', 'JJ'),\n",
       " ('methods', 'NNS'),\n",
       " (\"''\", \"''\"),\n",
       " ('order', 'NN'),\n",
       " ('``', '``'),\n",
       " ('understand', 'JJ'),\n",
       " ('analyze', 'NN'),\n",
       " ('actual', 'JJ'),\n",
       " ('phenomena', 'NN'),\n",
       " (\"''\", \"''\"),\n",
       " ('data', 'NNS'),\n",
       " ('3', 'CD'),\n",
       " ('It', 'PRP'),\n",
       " ('uses', 'VBZ'),\n",
       " ('techniques', 'NNS'),\n",
       " ('theories', 'NNS'),\n",
       " ('drawn', 'VBP'),\n",
       " ('many', 'JJ'),\n",
       " ('fields', 'NNS'),\n",
       " ('within', 'IN'),\n",
       " ('context', 'NN'),\n",
       " ('mathematics', 'NNS'),\n",
       " ('statistics', 'NNS'),\n",
       " ('computer', 'NN'),\n",
       " ('science', 'NN'),\n",
       " ('information', 'NN'),\n",
       " ('science', 'NN'),\n",
       " ('domain', 'NN'),\n",
       " ('knowledge', 'NN'),\n",
       " ('However', 'RB'),\n",
       " ('data', 'VBZ'),\n",
       " ('science', 'NN'),\n",
       " ('different', 'JJ'),\n",
       " ('computer', 'NN'),\n",
       " ('science', 'NN'),\n",
       " ('information', 'NN'),\n",
       " ('science', 'NN'),\n",
       " ('Turing', 'NNP'),\n",
       " ('Award', 'NNP'),\n",
       " ('winner', 'NN'),\n",
       " ('Jim', 'NNP'),\n",
       " ('Gray', 'NNP'),\n",
       " ('imagined', 'VBD'),\n",
       " ('data', 'NNS'),\n",
       " ('science', 'NN'),\n",
       " ('``', '``'),\n",
       " ('fourth', 'JJ'),\n",
       " ('paradigm', 'NN'),\n",
       " (\"''\", \"''\"),\n",
       " ('science', 'NN'),\n",
       " ('empirical', 'JJ'),\n",
       " ('theoretical', 'JJ'),\n",
       " ('computational', 'JJ'),\n",
       " ('data-driven', 'NN'),\n",
       " ('asserted', 'VBD'),\n",
       " ('``', '``'),\n",
       " ('everything', 'NN'),\n",
       " ('science', 'NN'),\n",
       " ('changing', 'VBG'),\n",
       " ('impact', 'JJ'),\n",
       " ('information', 'NN'),\n",
       " ('technology', 'NN'),\n",
       " (\"''\", \"''\"),\n",
       " ('data', 'NNS'),\n",
       " ('deluge', 'VBD'),\n",
       " ('4', 'CD'),\n",
       " ('5', 'CD'),\n",
       " ('A', 'NNP'),\n",
       " ('data', 'NNS'),\n",
       " ('scientist', 'NN'),\n",
       " ('someone', 'NN'),\n",
       " ('creates', 'VBZ'),\n",
       " ('programming', 'VBG'),\n",
       " ('code', 'NN'),\n",
       " ('combines', 'NNS'),\n",
       " ('statistical', 'JJ'),\n",
       " ('knowledge', 'NN'),\n",
       " ('create', 'NN'),\n",
       " ('insights', 'NNS'),\n",
       " ('business', 'NN'),\n",
       " ('data', 'NNS'),\n",
       " ('6', 'CD')]"
      ]
     },
     "execution_count": 43,
     "metadata": {},
     "output_type": "execute_result"
    }
   ],
   "source": [
    "# parts of speech for this clean data\n",
    "nltk.pos_tag(l)"
   ]
  },
  {
   "cell_type": "markdown",
   "id": "3305cd38",
   "metadata": {},
   "source": [
    "**stemming and lemmatization**"
   ]
  },
  {
   "cell_type": "code",
   "execution_count": 45,
   "id": "6528fd91",
   "metadata": {},
   "outputs": [],
   "source": [
    "from nltk.stem import PorterStemmer,LancasterStemmer,SnowballStemmer"
   ]
  },
  {
   "cell_type": "code",
   "execution_count": 46,
   "id": "080b4ab1",
   "metadata": {},
   "outputs": [],
   "source": [
    "porter = PorterStemmer()\n",
    "lancas = LancasterStemmer()\n",
    "snow = SnowballStemmer('english')"
   ]
  },
  {
   "cell_type": "code",
   "execution_count": 47,
   "id": "4cb017b3",
   "metadata": {},
   "outputs": [
    {
     "data": {
      "text/plain": [
       "'run'"
      ]
     },
     "execution_count": 47,
     "metadata": {},
     "output_type": "execute_result"
    }
   ],
   "source": [
    "porter.stem(\"running\")"
   ]
  },
  {
   "cell_type": "code",
   "execution_count": 48,
   "id": "fa1a398f",
   "metadata": {},
   "outputs": [
    {
     "data": {
      "text/plain": [
       "'hobbi'"
      ]
     },
     "execution_count": 48,
     "metadata": {},
     "output_type": "execute_result"
    }
   ],
   "source": [
    "porter.stem('hobbies')"
   ]
  },
  {
   "cell_type": "code",
   "execution_count": 49,
   "id": "f13b212d",
   "metadata": {},
   "outputs": [
    {
     "data": {
      "text/plain": [
       "'hobbi'"
      ]
     },
     "execution_count": 49,
     "metadata": {},
     "output_type": "execute_result"
    }
   ],
   "source": [
    "porter.stem('hobbi')"
   ]
  },
  {
   "cell_type": "code",
   "execution_count": 50,
   "id": "37456058",
   "metadata": {},
   "outputs": [],
   "source": [
    "# it is trying to chop off those ing,es and all those info from that particular word \n",
    "# it is not going to convert into base word  it is just chop off "
   ]
  },
  {
   "cell_type": "code",
   "execution_count": 51,
   "id": "61bc6ce5",
   "metadata": {},
   "outputs": [
    {
     "data": {
      "text/plain": [
       "'sung'"
      ]
     },
     "execution_count": 51,
     "metadata": {},
     "output_type": "execute_result"
    }
   ],
   "source": [
    "porter.stem('sung')"
   ]
  },
  {
   "cell_type": "code",
   "execution_count": 52,
   "id": "b6a01f17",
   "metadata": {},
   "outputs": [
    {
     "data": {
      "text/plain": [
       "'comput'"
      ]
     },
     "execution_count": 52,
     "metadata": {},
     "output_type": "execute_result"
    }
   ],
   "source": [
    "porter.stem('computer')"
   ]
  },
  {
   "cell_type": "code",
   "execution_count": 53,
   "id": "c36d7eec",
   "metadata": {},
   "outputs": [
    {
     "data": {
      "text/plain": [
       "'comput'"
      ]
     },
     "execution_count": 53,
     "metadata": {},
     "output_type": "execute_result"
    }
   ],
   "source": [
    "lancas.stem(\"computer\")"
   ]
  },
  {
   "cell_type": "code",
   "execution_count": 54,
   "id": "16504c4a",
   "metadata": {},
   "outputs": [
    {
     "data": {
      "text/plain": [
       "'run'"
      ]
     },
     "execution_count": 54,
     "metadata": {},
     "output_type": "execute_result"
    }
   ],
   "source": [
    "snow.stem(\"running\")"
   ]
  },
  {
   "cell_type": "code",
   "execution_count": 55,
   "id": "510250e8",
   "metadata": {},
   "outputs": [
    {
     "data": {
      "text/plain": [
       "'run'"
      ]
     },
     "execution_count": 55,
     "metadata": {},
     "output_type": "execute_result"
    }
   ],
   "source": [
    "snow.stem(\"runs\")"
   ]
  },
  {
   "cell_type": "code",
   "execution_count": 56,
   "id": "904ddba9",
   "metadata": {},
   "outputs": [
    {
     "data": {
      "text/plain": [
       "'run'"
      ]
     },
     "execution_count": 56,
     "metadata": {},
     "output_type": "execute_result"
    }
   ],
   "source": [
    "snow.stem(\"run\")"
   ]
  },
  {
   "cell_type": "code",
   "execution_count": 61,
   "id": "4be1bde8",
   "metadata": {},
   "outputs": [
    {
     "data": {
      "text/plain": [
       "'running'"
      ]
     },
     "execution_count": 61,
     "metadata": {},
     "output_type": "execute_result"
    }
   ],
   "source": [
    "from nltk.stem import WordNetLemmatizer\n",
    "lemma = WordNetLemmatizer()\n",
    "lemma.lemmatize(\"running\")"
   ]
  },
  {
   "cell_type": "code",
   "execution_count": 62,
   "id": "9b9916c4",
   "metadata": {},
   "outputs": [
    {
     "data": {
      "text/plain": [
       "'run'"
      ]
     },
     "execution_count": 62,
     "metadata": {},
     "output_type": "execute_result"
    }
   ],
   "source": [
    "lemma.lemmatize(\"runs\")"
   ]
  },
  {
   "cell_type": "code",
   "execution_count": 63,
   "id": "246c6578",
   "metadata": {},
   "outputs": [
    {
     "data": {
      "text/plain": [
       "'run'"
      ]
     },
     "execution_count": 63,
     "metadata": {},
     "output_type": "execute_result"
    }
   ],
   "source": [
    "lemma.lemmatize(\"run\")"
   ]
  },
  {
   "cell_type": "code",
   "execution_count": null,
   "id": "f0366919",
   "metadata": {},
   "outputs": [],
   "source": [
    "#lemmatization -> it is not like stemming , it will always try to covert your word into base  word  \n",
    "# no chopping "
   ]
  },
  {
   "cell_type": "code",
   "execution_count": 64,
   "id": "0743cfb4",
   "metadata": {},
   "outputs": [
    {
     "data": {
      "text/plain": [
       "'go'"
      ]
     },
     "execution_count": 64,
     "metadata": {},
     "output_type": "execute_result"
    }
   ],
   "source": [
    "lemma.lemmatize(\"went\" , pos = 'v') # ->here we can convert the word into base word on the the basis of part of speech"
   ]
  },
  {
   "cell_type": "code",
   "execution_count": 65,
   "id": "792cef68",
   "metadata": {},
   "outputs": [
    {
     "data": {
      "text/plain": [
       "'go'"
      ]
     },
     "execution_count": 65,
     "metadata": {},
     "output_type": "execute_result"
    }
   ],
   "source": [
    "lemma.lemmatize(\"gone\" , pos = 'v')"
   ]
  },
  {
   "cell_type": "code",
   "execution_count": 66,
   "id": "bacc3c84",
   "metadata": {},
   "outputs": [
    {
     "data": {
      "text/plain": [
       "'go'"
      ]
     },
     "execution_count": 66,
     "metadata": {},
     "output_type": "execute_result"
    }
   ],
   "source": [
    "lemma.lemmatize(\"go\")"
   ]
  },
  {
   "cell_type": "code",
   "execution_count": null,
   "id": "9051371b",
   "metadata": {},
   "outputs": [],
   "source": [
    "# note --> all the things are case senstive \n",
    "# keep your words into lower case"
   ]
  }
 ],
 "metadata": {
  "kernelspec": {
   "display_name": "Python 3 (ipykernel)",
   "language": "python",
   "name": "python3"
  },
  "language_info": {
   "codemirror_mode": {
    "name": "ipython",
    "version": 3
   },
   "file_extension": ".py",
   "mimetype": "text/x-python",
   "name": "python",
   "nbconvert_exporter": "python",
   "pygments_lexer": "ipython3",
   "version": "3.9.12"
  }
 },
 "nbformat": 4,
 "nbformat_minor": 5
}
